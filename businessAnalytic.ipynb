{
 "cells": [
  {
   "metadata": {},
   "cell_type": "markdown",
   "source": "Step 1: Importing Required Libraries",
   "id": "79908294c187ac95"
  },
  {
   "metadata": {
    "ExecuteTime": {
     "end_time": "2024-10-18T13:11:17.351780Z",
     "start_time": "2024-10-18T13:11:15.720253Z"
    }
   },
   "cell_type": "code",
   "source": [
    "# Importing necessary libraries\n",
    "import pandas as pd\n",
    "import numpy as np\n",
    "import seaborn as sns\n",
    "import matplotlib.pyplot as plt\n",
    "from sklearn.model_selection import train_test_split, GridSearchCV\n",
    "from sklearn.preprocessing import StandardScaler\n",
    "from sklearn.linear_model import LogisticRegression\n",
    "from sklearn.metrics import accuracy_score, classification_report\n",
    "from sklearn.pipeline import Pipeline\n",
    "import warnings\n",
    "\n",
    "# Suppress warnings\n",
    "warnings.filterwarnings('ignore')\n",
    "\n",
    "# For consistent results\n",
    "np.random.seed(42)"
   ],
   "id": "fd30676d1e024e62",
   "outputs": [],
   "execution_count": 1
  },
  {
   "metadata": {},
   "cell_type": "markdown",
   "source": "Step 2: Creating a Sample Dataset",
   "id": "7363dd3e7b726d06"
  },
  {
   "metadata": {
    "ExecuteTime": {
     "end_time": "2024-10-18T13:11:17.496086Z",
     "start_time": "2024-10-18T13:11:17.415990Z"
    }
   },
   "cell_type": "code",
   "source": [
    "# Sample dataset creation\n",
    "n_samples = 1000\n",
    "data = {\n",
    "    'CustomerID': np.arange(1, n_samples + 1),\n",
    "    'Age': np.random.randint(18, 65, n_samples),\n",
    "    'MonthlySpend': np.random.uniform(50, 500, n_samples).round(2),\n",
    "    'Tenure': np.random.randint(1, 120, n_samples),  # in months\n",
    "    'CustomerSupportCalls': np.random.randint(0, 10, n_samples),\n",
    "    'HasInternetService': np.random.choice([0, 1], n_samples),\n",
    "    'Churn': np.random.choice([0, 1], n_samples)  # 0: Stayed, 1: Left\n",
    "}\n",
    "\n",
    "# Creating DataFrame\n",
    "df = pd.DataFrame(data)\n",
    "\n",
    "# Showing first few rows of data\n",
    "df.head()\n",
    "\n",
    "# Save the dataset to a CSV file\n",
    "df.to_csv('data/customer_data.csv', index=False)"
   ],
   "id": "e3b19830f605252e",
   "outputs": [],
   "execution_count": 2
  },
  {
   "metadata": {},
   "cell_type": "markdown",
   "source": [
    "Step 3: Data Preprocessing and Cleaning\n",
    "\n",
    "3.1 Handling Missing Data"
   ],
   "id": "3a649e92982a6420"
  },
  {
   "metadata": {
    "ExecuteTime": {
     "end_time": "2024-10-18T13:11:17.862392Z",
     "start_time": "2024-10-18T13:11:17.842264Z"
    }
   },
   "cell_type": "code",
   "source": [
    "# Introduce some missing values into 'MonthlySpend'\n",
    "df.loc[np.random.choice(df.index, size=50), 'MonthlySpend'] = np.nan\n",
    "\n",
    "# Check for missing values\n",
    "print(df.isnull().sum())\n",
    "\n",
    "# Fill missing 'MonthlySpend' values with median\n",
    "df['MonthlySpend'].fillna(df['MonthlySpend'].median(), inplace=True)"
   ],
   "id": "2395951d77b91e41",
   "outputs": [
    {
     "name": "stdout",
     "output_type": "stream",
     "text": [
      "CustomerID               0\n",
      "Age                      0\n",
      "MonthlySpend            47\n",
      "Tenure                   0\n",
      "CustomerSupportCalls     0\n",
      "HasInternetService       0\n",
      "Churn                    0\n",
      "dtype: int64\n"
     ]
    }
   ],
   "execution_count": 3
  },
  {
   "metadata": {},
   "cell_type": "markdown",
   "source": "3.2 Handling Duplicates",
   "id": "498b69fbb9908f45"
  },
  {
   "metadata": {
    "ExecuteTime": {
     "end_time": "2024-10-18T13:11:17.995079Z",
     "start_time": "2024-10-18T13:11:17.956093Z"
    }
   },
   "cell_type": "code",
   "source": [
    "# Check for duplicates\n",
    "print(df.duplicated().sum())\n",
    "\n",
    "# Remove duplicates if any\n",
    "df = df.drop_duplicates()\n",
    "\n",
    "\n",
    "# Save the cleaned dataset to a CSV file\n",
    "df.to_csv('data/cleaned_customer_data.csv', index=False)"
   ],
   "id": "57b7d2e8165ff72a",
   "outputs": [
    {
     "name": "stdout",
     "output_type": "stream",
     "text": [
      "0\n"
     ]
    }
   ],
   "execution_count": 4
  },
  {
   "metadata": {},
   "cell_type": "markdown",
   "source": [
    "Step 4: Feature Engineering and Data Transformation\n",
    "\n",
    "4.1 Scaling Numeric Features"
   ],
   "id": "3049b7b479703992"
  },
  {
   "metadata": {
    "ExecuteTime": {
     "end_time": "2024-10-18T13:11:18.225513Z",
     "start_time": "2024-10-18T13:11:18.168884Z"
    }
   },
   "cell_type": "code",
   "source": [
    "# Create 'TenureInYears' feature\n",
    "df['TenureInYears'] = df['Tenure'] / 12\n",
    "\n",
    "# Create 'AgeGroup' feature\n",
    "bins = [18, 30, 40, 50, 65]\n",
    "labels = ['18-30', '31-40', '41-50', '51-65']\n",
    "df['AgeGroup'] = pd.cut(df['Age'], bins=bins, labels=labels, right=False)\n",
    "\n",
    "# Display the new features\n",
    "df[['TenureInYears', 'AgeGroup']].head()"
   ],
   "id": "2fa835f1874c26c8",
   "outputs": [
    {
     "data": {
      "text/plain": [
       "   TenureInYears AgeGroup\n",
       "0       0.500000    51-65\n",
       "1       2.666667    41-50\n",
       "2       7.750000    31-40\n",
       "3       3.583333    51-65\n",
       "4       0.166667    18-30"
      ],
      "text/html": [
       "<div>\n",
       "<style scoped>\n",
       "    .dataframe tbody tr th:only-of-type {\n",
       "        vertical-align: middle;\n",
       "    }\n",
       "\n",
       "    .dataframe tbody tr th {\n",
       "        vertical-align: top;\n",
       "    }\n",
       "\n",
       "    .dataframe thead th {\n",
       "        text-align: right;\n",
       "    }\n",
       "</style>\n",
       "<table border=\"1\" class=\"dataframe\">\n",
       "  <thead>\n",
       "    <tr style=\"text-align: right;\">\n",
       "      <th></th>\n",
       "      <th>TenureInYears</th>\n",
       "      <th>AgeGroup</th>\n",
       "    </tr>\n",
       "  </thead>\n",
       "  <tbody>\n",
       "    <tr>\n",
       "      <th>0</th>\n",
       "      <td>0.500000</td>\n",
       "      <td>51-65</td>\n",
       "    </tr>\n",
       "    <tr>\n",
       "      <th>1</th>\n",
       "      <td>2.666667</td>\n",
       "      <td>41-50</td>\n",
       "    </tr>\n",
       "    <tr>\n",
       "      <th>2</th>\n",
       "      <td>7.750000</td>\n",
       "      <td>31-40</td>\n",
       "    </tr>\n",
       "    <tr>\n",
       "      <th>3</th>\n",
       "      <td>3.583333</td>\n",
       "      <td>51-65</td>\n",
       "    </tr>\n",
       "    <tr>\n",
       "      <th>4</th>\n",
       "      <td>0.166667</td>\n",
       "      <td>18-30</td>\n",
       "    </tr>\n",
       "  </tbody>\n",
       "</table>\n",
       "</div>"
      ]
     },
     "execution_count": 5,
     "metadata": {},
     "output_type": "execute_result"
    }
   ],
   "execution_count": 5
  },
  {
   "metadata": {},
   "cell_type": "markdown",
   "source": "4.2 Creating New Features",
   "id": "63acc86a521f9bf9"
  },
  {
   "metadata": {
    "ExecuteTime": {
     "end_time": "2024-10-18T13:11:18.381675Z",
     "start_time": "2024-10-18T13:11:18.354443Z"
    }
   },
   "cell_type": "code",
   "source": [
    "# Create 'TenureInYears' feature\n",
    "df['TenureInYears'] = df['Tenure'] / 12\n",
    "\n",
    "# Create 'AgeGroup' feature\n",
    "bins = [18, 30, 40, 50, 65]\n",
    "labels = ['18-30', '31-40', '41-50', '51-65']\n",
    "df['AgeGroup'] = pd.cut(df['Age'], bins=bins, labels=labels, right=False)\n",
    "\n",
    "# Display the new features\n",
    "df[['TenureInYears', 'AgeGroup']].head()\n"
   ],
   "id": "181e84cc2a9d5a40",
   "outputs": [
    {
     "data": {
      "text/plain": [
       "   TenureInYears AgeGroup\n",
       "0       0.500000    51-65\n",
       "1       2.666667    41-50\n",
       "2       7.750000    31-40\n",
       "3       3.583333    51-65\n",
       "4       0.166667    18-30"
      ],
      "text/html": [
       "<div>\n",
       "<style scoped>\n",
       "    .dataframe tbody tr th:only-of-type {\n",
       "        vertical-align: middle;\n",
       "    }\n",
       "\n",
       "    .dataframe tbody tr th {\n",
       "        vertical-align: top;\n",
       "    }\n",
       "\n",
       "    .dataframe thead th {\n",
       "        text-align: right;\n",
       "    }\n",
       "</style>\n",
       "<table border=\"1\" class=\"dataframe\">\n",
       "  <thead>\n",
       "    <tr style=\"text-align: right;\">\n",
       "      <th></th>\n",
       "      <th>TenureInYears</th>\n",
       "      <th>AgeGroup</th>\n",
       "    </tr>\n",
       "  </thead>\n",
       "  <tbody>\n",
       "    <tr>\n",
       "      <th>0</th>\n",
       "      <td>0.500000</td>\n",
       "      <td>51-65</td>\n",
       "    </tr>\n",
       "    <tr>\n",
       "      <th>1</th>\n",
       "      <td>2.666667</td>\n",
       "      <td>41-50</td>\n",
       "    </tr>\n",
       "    <tr>\n",
       "      <th>2</th>\n",
       "      <td>7.750000</td>\n",
       "      <td>31-40</td>\n",
       "    </tr>\n",
       "    <tr>\n",
       "      <th>3</th>\n",
       "      <td>3.583333</td>\n",
       "      <td>51-65</td>\n",
       "    </tr>\n",
       "    <tr>\n",
       "      <th>4</th>\n",
       "      <td>0.166667</td>\n",
       "      <td>18-30</td>\n",
       "    </tr>\n",
       "  </tbody>\n",
       "</table>\n",
       "</div>"
      ]
     },
     "execution_count": 6,
     "metadata": {},
     "output_type": "execute_result"
    }
   ],
   "execution_count": 6
  },
  {
   "metadata": {},
   "cell_type": "markdown",
   "source": "Step 5: Data Quality Assessment",
   "id": "d3891feafa67b79f"
  },
  {
   "metadata": {
    "ExecuteTime": {
     "end_time": "2024-10-18T13:11:24.111664Z",
     "start_time": "2024-10-18T13:11:18.595802Z"
    }
   },
   "cell_type": "code",
   "source": [
    "# Checking if data is balanced for Churn\n",
    "print(df['Churn'].value_counts(normalize=True))\n",
    "\n",
    "# Save the correlation heatmap plot\n",
    "plt.figure(figsize=(10, 6))\n",
    "sns.heatmap(df.corr(), annot=True, cmap='coolwarm')\n",
    "plt.title('Correlation Heatmap')\n",
    "plt.savefig('data/correlation_heatmap.png')\n",
    "plt.show()\n"
   ],
   "id": "5199bfd9b571cc37",
   "outputs": [
    {
     "name": "stdout",
     "output_type": "stream",
     "text": [
      "Churn\n",
      "1    0.504\n",
      "0    0.496\n",
      "Name: proportion, dtype: float64\n"
     ]
    },
    {
     "ename": "ValueError",
     "evalue": "could not convert string to float: '51-65'",
     "output_type": "error",
     "traceback": [
      "\u001B[1;31m---------------------------------------------------------------------------\u001B[0m",
      "\u001B[1;31mValueError\u001B[0m                                Traceback (most recent call last)",
      "Cell \u001B[1;32mIn[7], line 6\u001B[0m\n\u001B[0;32m      4\u001B[0m \u001B[38;5;66;03m# Save the correlation heatmap plot\u001B[39;00m\n\u001B[0;32m      5\u001B[0m plt\u001B[38;5;241m.\u001B[39mfigure(figsize\u001B[38;5;241m=\u001B[39m(\u001B[38;5;241m10\u001B[39m, \u001B[38;5;241m6\u001B[39m))\n\u001B[1;32m----> 6\u001B[0m sns\u001B[38;5;241m.\u001B[39mheatmap(df\u001B[38;5;241m.\u001B[39mcorr(), annot\u001B[38;5;241m=\u001B[39m\u001B[38;5;28;01mTrue\u001B[39;00m, cmap\u001B[38;5;241m=\u001B[39m\u001B[38;5;124m'\u001B[39m\u001B[38;5;124mcoolwarm\u001B[39m\u001B[38;5;124m'\u001B[39m)\n\u001B[0;32m      7\u001B[0m plt\u001B[38;5;241m.\u001B[39mtitle(\u001B[38;5;124m'\u001B[39m\u001B[38;5;124mCorrelation Heatmap\u001B[39m\u001B[38;5;124m'\u001B[39m)\n\u001B[0;32m      8\u001B[0m plt\u001B[38;5;241m.\u001B[39msavefig(\u001B[38;5;124m'\u001B[39m\u001B[38;5;124mdata/correlation_heatmap.png\u001B[39m\u001B[38;5;124m'\u001B[39m)\n",
      "File \u001B[1;32m~\\miniconda3\\Lib\\site-packages\\pandas\\core\\frame.py:11049\u001B[0m, in \u001B[0;36mDataFrame.corr\u001B[1;34m(self, method, min_periods, numeric_only)\u001B[0m\n\u001B[0;32m  11047\u001B[0m cols \u001B[38;5;241m=\u001B[39m data\u001B[38;5;241m.\u001B[39mcolumns\n\u001B[0;32m  11048\u001B[0m idx \u001B[38;5;241m=\u001B[39m cols\u001B[38;5;241m.\u001B[39mcopy()\n\u001B[1;32m> 11049\u001B[0m mat \u001B[38;5;241m=\u001B[39m data\u001B[38;5;241m.\u001B[39mto_numpy(dtype\u001B[38;5;241m=\u001B[39m\u001B[38;5;28mfloat\u001B[39m, na_value\u001B[38;5;241m=\u001B[39mnp\u001B[38;5;241m.\u001B[39mnan, copy\u001B[38;5;241m=\u001B[39m\u001B[38;5;28;01mFalse\u001B[39;00m)\n\u001B[0;32m  11051\u001B[0m \u001B[38;5;28;01mif\u001B[39;00m method \u001B[38;5;241m==\u001B[39m \u001B[38;5;124m\"\u001B[39m\u001B[38;5;124mpearson\u001B[39m\u001B[38;5;124m\"\u001B[39m:\n\u001B[0;32m  11052\u001B[0m     correl \u001B[38;5;241m=\u001B[39m libalgos\u001B[38;5;241m.\u001B[39mnancorr(mat, minp\u001B[38;5;241m=\u001B[39mmin_periods)\n",
      "File \u001B[1;32m~\\miniconda3\\Lib\\site-packages\\pandas\\core\\frame.py:1993\u001B[0m, in \u001B[0;36mDataFrame.to_numpy\u001B[1;34m(self, dtype, copy, na_value)\u001B[0m\n\u001B[0;32m   1991\u001B[0m \u001B[38;5;28;01mif\u001B[39;00m dtype \u001B[38;5;129;01mis\u001B[39;00m \u001B[38;5;129;01mnot\u001B[39;00m \u001B[38;5;28;01mNone\u001B[39;00m:\n\u001B[0;32m   1992\u001B[0m     dtype \u001B[38;5;241m=\u001B[39m np\u001B[38;5;241m.\u001B[39mdtype(dtype)\n\u001B[1;32m-> 1993\u001B[0m result \u001B[38;5;241m=\u001B[39m \u001B[38;5;28mself\u001B[39m\u001B[38;5;241m.\u001B[39m_mgr\u001B[38;5;241m.\u001B[39mas_array(dtype\u001B[38;5;241m=\u001B[39mdtype, copy\u001B[38;5;241m=\u001B[39mcopy, na_value\u001B[38;5;241m=\u001B[39mna_value)\n\u001B[0;32m   1994\u001B[0m \u001B[38;5;28;01mif\u001B[39;00m result\u001B[38;5;241m.\u001B[39mdtype \u001B[38;5;129;01mis\u001B[39;00m \u001B[38;5;129;01mnot\u001B[39;00m dtype:\n\u001B[0;32m   1995\u001B[0m     result \u001B[38;5;241m=\u001B[39m np\u001B[38;5;241m.\u001B[39masarray(result, dtype\u001B[38;5;241m=\u001B[39mdtype)\n",
      "File \u001B[1;32m~\\miniconda3\\Lib\\site-packages\\pandas\\core\\internals\\managers.py:1694\u001B[0m, in \u001B[0;36mBlockManager.as_array\u001B[1;34m(self, dtype, copy, na_value)\u001B[0m\n\u001B[0;32m   1692\u001B[0m         arr\u001B[38;5;241m.\u001B[39mflags\u001B[38;5;241m.\u001B[39mwriteable \u001B[38;5;241m=\u001B[39m \u001B[38;5;28;01mFalse\u001B[39;00m\n\u001B[0;32m   1693\u001B[0m \u001B[38;5;28;01melse\u001B[39;00m:\n\u001B[1;32m-> 1694\u001B[0m     arr \u001B[38;5;241m=\u001B[39m \u001B[38;5;28mself\u001B[39m\u001B[38;5;241m.\u001B[39m_interleave(dtype\u001B[38;5;241m=\u001B[39mdtype, na_value\u001B[38;5;241m=\u001B[39mna_value)\n\u001B[0;32m   1695\u001B[0m     \u001B[38;5;66;03m# The underlying data was copied within _interleave, so no need\u001B[39;00m\n\u001B[0;32m   1696\u001B[0m     \u001B[38;5;66;03m# to further copy if copy=True or setting na_value\u001B[39;00m\n\u001B[0;32m   1698\u001B[0m \u001B[38;5;28;01mif\u001B[39;00m na_value \u001B[38;5;129;01mis\u001B[39;00m lib\u001B[38;5;241m.\u001B[39mno_default:\n",
      "File \u001B[1;32m~\\miniconda3\\Lib\\site-packages\\pandas\\core\\internals\\managers.py:1747\u001B[0m, in \u001B[0;36mBlockManager._interleave\u001B[1;34m(self, dtype, na_value)\u001B[0m\n\u001B[0;32m   1741\u001B[0m rl \u001B[38;5;241m=\u001B[39m blk\u001B[38;5;241m.\u001B[39mmgr_locs\n\u001B[0;32m   1742\u001B[0m \u001B[38;5;28;01mif\u001B[39;00m blk\u001B[38;5;241m.\u001B[39mis_extension:\n\u001B[0;32m   1743\u001B[0m     \u001B[38;5;66;03m# Avoid implicit conversion of extension blocks to object\u001B[39;00m\n\u001B[0;32m   1744\u001B[0m \n\u001B[0;32m   1745\u001B[0m     \u001B[38;5;66;03m# error: Item \"ndarray\" of \"Union[ndarray, ExtensionArray]\" has no\u001B[39;00m\n\u001B[0;32m   1746\u001B[0m     \u001B[38;5;66;03m# attribute \"to_numpy\"\u001B[39;00m\n\u001B[1;32m-> 1747\u001B[0m     arr \u001B[38;5;241m=\u001B[39m blk\u001B[38;5;241m.\u001B[39mvalues\u001B[38;5;241m.\u001B[39mto_numpy(  \u001B[38;5;66;03m# type: ignore[union-attr]\u001B[39;00m\n\u001B[0;32m   1748\u001B[0m         dtype\u001B[38;5;241m=\u001B[39mdtype,\n\u001B[0;32m   1749\u001B[0m         na_value\u001B[38;5;241m=\u001B[39mna_value,\n\u001B[0;32m   1750\u001B[0m     )\n\u001B[0;32m   1751\u001B[0m \u001B[38;5;28;01melse\u001B[39;00m:\n\u001B[0;32m   1752\u001B[0m     arr \u001B[38;5;241m=\u001B[39m blk\u001B[38;5;241m.\u001B[39mget_values(dtype)\n",
      "File \u001B[1;32m~\\miniconda3\\Lib\\site-packages\\pandas\\core\\arrays\\base.py:568\u001B[0m, in \u001B[0;36mExtensionArray.to_numpy\u001B[1;34m(self, dtype, copy, na_value)\u001B[0m\n\u001B[0;32m    539\u001B[0m \u001B[38;5;28;01mdef\u001B[39;00m \u001B[38;5;21mto_numpy\u001B[39m(\n\u001B[0;32m    540\u001B[0m     \u001B[38;5;28mself\u001B[39m,\n\u001B[0;32m    541\u001B[0m     dtype: npt\u001B[38;5;241m.\u001B[39mDTypeLike \u001B[38;5;241m|\u001B[39m \u001B[38;5;28;01mNone\u001B[39;00m \u001B[38;5;241m=\u001B[39m \u001B[38;5;28;01mNone\u001B[39;00m,\n\u001B[0;32m    542\u001B[0m     copy: \u001B[38;5;28mbool\u001B[39m \u001B[38;5;241m=\u001B[39m \u001B[38;5;28;01mFalse\u001B[39;00m,\n\u001B[0;32m    543\u001B[0m     na_value: \u001B[38;5;28mobject\u001B[39m \u001B[38;5;241m=\u001B[39m lib\u001B[38;5;241m.\u001B[39mno_default,\n\u001B[0;32m    544\u001B[0m ) \u001B[38;5;241m-\u001B[39m\u001B[38;5;241m>\u001B[39m np\u001B[38;5;241m.\u001B[39mndarray:\n\u001B[0;32m    545\u001B[0m \u001B[38;5;250m    \u001B[39m\u001B[38;5;124;03m\"\"\"\u001B[39;00m\n\u001B[0;32m    546\u001B[0m \u001B[38;5;124;03m    Convert to a NumPy ndarray.\u001B[39;00m\n\u001B[0;32m    547\u001B[0m \n\u001B[1;32m   (...)\u001B[0m\n\u001B[0;32m    566\u001B[0m \u001B[38;5;124;03m    numpy.ndarray\u001B[39;00m\n\u001B[0;32m    567\u001B[0m \u001B[38;5;124;03m    \"\"\"\u001B[39;00m\n\u001B[1;32m--> 568\u001B[0m     result \u001B[38;5;241m=\u001B[39m np\u001B[38;5;241m.\u001B[39masarray(\u001B[38;5;28mself\u001B[39m, dtype\u001B[38;5;241m=\u001B[39mdtype)\n\u001B[0;32m    569\u001B[0m     \u001B[38;5;28;01mif\u001B[39;00m copy \u001B[38;5;129;01mor\u001B[39;00m na_value \u001B[38;5;129;01mis\u001B[39;00m \u001B[38;5;129;01mnot\u001B[39;00m lib\u001B[38;5;241m.\u001B[39mno_default:\n\u001B[0;32m    570\u001B[0m         result \u001B[38;5;241m=\u001B[39m result\u001B[38;5;241m.\u001B[39mcopy()\n",
      "File \u001B[1;32m~\\miniconda3\\Lib\\site-packages\\pandas\\core\\arrays\\_mixins.py:81\u001B[0m, in \u001B[0;36mravel_compat.<locals>.method\u001B[1;34m(self, *args, **kwargs)\u001B[0m\n\u001B[0;32m     78\u001B[0m \u001B[38;5;129m@wraps\u001B[39m(meth)\n\u001B[0;32m     79\u001B[0m \u001B[38;5;28;01mdef\u001B[39;00m \u001B[38;5;21mmethod\u001B[39m(\u001B[38;5;28mself\u001B[39m, \u001B[38;5;241m*\u001B[39margs, \u001B[38;5;241m*\u001B[39m\u001B[38;5;241m*\u001B[39mkwargs):\n\u001B[0;32m     80\u001B[0m     \u001B[38;5;28;01mif\u001B[39;00m \u001B[38;5;28mself\u001B[39m\u001B[38;5;241m.\u001B[39mndim \u001B[38;5;241m==\u001B[39m \u001B[38;5;241m1\u001B[39m:\n\u001B[1;32m---> 81\u001B[0m         \u001B[38;5;28;01mreturn\u001B[39;00m meth(\u001B[38;5;28mself\u001B[39m, \u001B[38;5;241m*\u001B[39margs, \u001B[38;5;241m*\u001B[39m\u001B[38;5;241m*\u001B[39mkwargs)\n\u001B[0;32m     83\u001B[0m     flags \u001B[38;5;241m=\u001B[39m \u001B[38;5;28mself\u001B[39m\u001B[38;5;241m.\u001B[39m_ndarray\u001B[38;5;241m.\u001B[39mflags\n\u001B[0;32m     84\u001B[0m     flat \u001B[38;5;241m=\u001B[39m \u001B[38;5;28mself\u001B[39m\u001B[38;5;241m.\u001B[39mravel(\u001B[38;5;124m\"\u001B[39m\u001B[38;5;124mK\u001B[39m\u001B[38;5;124m\"\u001B[39m)\n",
      "File \u001B[1;32m~\\miniconda3\\Lib\\site-packages\\pandas\\core\\arrays\\categorical.py:1664\u001B[0m, in \u001B[0;36mCategorical.__array__\u001B[1;34m(self, dtype, copy)\u001B[0m\n\u001B[0;32m   1662\u001B[0m ret \u001B[38;5;241m=\u001B[39m take_nd(\u001B[38;5;28mself\u001B[39m\u001B[38;5;241m.\u001B[39mcategories\u001B[38;5;241m.\u001B[39m_values, \u001B[38;5;28mself\u001B[39m\u001B[38;5;241m.\u001B[39m_codes)\n\u001B[0;32m   1663\u001B[0m \u001B[38;5;28;01mif\u001B[39;00m dtype \u001B[38;5;129;01mand\u001B[39;00m np\u001B[38;5;241m.\u001B[39mdtype(dtype) \u001B[38;5;241m!=\u001B[39m \u001B[38;5;28mself\u001B[39m\u001B[38;5;241m.\u001B[39mcategories\u001B[38;5;241m.\u001B[39mdtype:\n\u001B[1;32m-> 1664\u001B[0m     \u001B[38;5;28;01mreturn\u001B[39;00m np\u001B[38;5;241m.\u001B[39masarray(ret, dtype)\n\u001B[0;32m   1665\u001B[0m \u001B[38;5;66;03m# When we're a Categorical[ExtensionArray], like Interval,\u001B[39;00m\n\u001B[0;32m   1666\u001B[0m \u001B[38;5;66;03m# we need to ensure __array__ gets all the way to an\u001B[39;00m\n\u001B[0;32m   1667\u001B[0m \u001B[38;5;66;03m# ndarray.\u001B[39;00m\n\u001B[0;32m   1668\u001B[0m \u001B[38;5;28;01mreturn\u001B[39;00m np\u001B[38;5;241m.\u001B[39masarray(ret)\n",
      "\u001B[1;31mValueError\u001B[0m: could not convert string to float: '51-65'"
     ]
    },
    {
     "data": {
      "text/plain": [
       "<Figure size 1000x600 with 0 Axes>"
      ]
     },
     "metadata": {},
     "output_type": "display_data"
    }
   ],
   "execution_count": 7
  },
  {
   "metadata": {},
   "cell_type": "markdown",
   "source": "Step 6: Exploratory Data Analysis (Optional Visualizations)",
   "id": "7d8d67a230994515"
  },
  {
   "metadata": {
    "ExecuteTime": {
     "end_time": "2024-10-18T13:11:24.148939100Z",
     "start_time": "2024-10-16T20:51:47.039275Z"
    }
   },
   "cell_type": "code",
   "source": [
    "# Save the Age distribution plot\n",
    "sns.histplot(df['Age'], kde=True, bins=20)\n",
    "plt.title('Age Distribution')\n",
    "plt.xlabel('Age')\n",
    "plt.ylabel('Frequency')\n",
    "plt.savefig('data/age_distribution.png')\n",
    "plt.show()\n",
    "\n",
    "# Save the MonthlySpend vs Churn plot\n",
    "sns.boxplot(x='Churn', y='MonthlySpend', data=df)\n",
    "plt.title('MonthlySpend vs Churn')\n",
    "plt.xlabel('Churn')\n",
    "plt.ylabel('Monthly Spend')\n",
    "plt.savefig('data/monthly_spend_vs_churn.png')\n",
    "plt.show()"
   ],
   "id": "b8d8483f6bf2bf9e",
   "outputs": [
    {
     "data": {
      "text/plain": [
       "<Figure size 640x480 with 1 Axes>"
      ],
      "image/png": "[encoded data removed]"
     },
     "metadata": {},
     "output_type": "display_data"
    },
    {
     "data": {
      "text/plain": [
       "<Figure size 640x480 with 1 Axes>"
      ],
      "image/png": "[encoded data removed]"
     },
     "metadata": {},
     "output_type": "display_data"
    }
   ],
   "execution_count": 19
  },
  {
   "metadata": {},
   "cell_type": "markdown",
   "source": [
    "Step 7: Model Building - Logistic Regression\n",
    "\n",
    "7.1 Splitting the Data into Training and Test Sets"
   ],
   "id": "e0bf8dba2f168ede"
  },
  {
   "metadata": {
    "ExecuteTime": {
     "end_time": "2024-10-18T13:11:24.152572100Z",
     "start_time": "2024-10-16T20:51:50.448095Z"
    }
   },
   "cell_type": "code",
   "source": [
    "# Defining feature set and target variable\n",
    "X = df.drop(columns=['CustomerID', 'Churn', 'AgeGroup'])  # Exclude categorical and ID columns\n",
    "y = df['Churn']  # Target variable\n",
    "\n",
    "# Splitting the data into 70% train and 30% test\n",
    "X_train, X_test, y_train, y_test = train_test_split(X, y, test_size=0.3, random_state=42)\n",
    "\n",
    "# Display shapes of training and testing data\n",
    "print(\"Training set shape:\", X_train.shape)\n",
    "print(\"Test set shape:\", X_test.shape)"
   ],
   "id": "2e07fde0d3493f9c",
   "outputs": [
    {
     "name": "stdout",
     "output_type": "stream",
     "text": [
      "Training set shape: (700, 6)\n",
      "Test set shape: (300, 6)\n"
     ]
    }
   ],
   "execution_count": 20
  },
  {
   "metadata": {},
   "cell_type": "markdown",
   "source": "7.2 Training and Evaluating Logistic Regression Model",
   "id": "3a333a1098a03916"
  },
  {
   "metadata": {
    "ExecuteTime": {
     "end_time": "2024-10-18T13:11:24.153602400Z",
     "start_time": "2024-10-16T20:51:53.422141Z"
    }
   },
   "cell_type": "code",
   "source": [
    "# Creating a pipeline for scaling and logistic regression\n",
    "pipeline = Pipeline([\n",
    "    ('scaler', StandardScaler()),\n",
    "    ('logreg', LogisticRegression())\n",
    "])\n",
    "\n",
    "# Hyperparameter tuning using GridSearchCV\n",
    "param_grid = {\n",
    "    'logreg__C': [0.1, 1, 10],\n",
    "    'logreg__solver': ['liblinear', 'lbfgs']\n",
    "}\n",
    "\n",
    "grid_search = GridSearchCV(pipeline, param_grid, cv=5, scoring='accuracy')\n",
    "grid_search.fit(X_train, y_train)\n",
    "\n",
    "# Best model\n",
    "best_model = grid_search.best_estimator_\n",
    "\n",
    "# Predicting on test data\n",
    "y_pred = best_model.predict(X_test)\n",
    "\n",
    "# Model Evaluation\n",
    "print(\"Best Parameters:\", grid_search.best_params_)\n",
    "print(\"Accuracy:\", accuracy_score(y_test, y_pred))\n",
    "print(classification_report(y_test, y_pred))"
   ],
   "id": "74abba481901468c",
   "outputs": [
    {
     "name": "stdout",
     "output_type": "stream",
     "text": [
      "Best Parameters: {'logreg__C': 0.1, 'logreg__solver': 'liblinear'}\n",
      "Accuracy: 0.5466666666666666\n",
      "              precision    recall  f1-score   support\n",
      "\n",
      "           0       0.56      0.47      0.51       152\n",
      "           1       0.53      0.63      0.58       148\n",
      "\n",
      "    accuracy                           0.55       300\n",
      "   macro avg       0.55      0.55      0.54       300\n",
      "weighted avg       0.55      0.55      0.54       300\n",
      "\n"
     ]
    }
   ],
   "execution_count": 21
  },
  {
   "metadata": {},
   "cell_type": "markdown",
   "source": "Step 8: Model Results and Conclusion",
   "id": "f11df84cad7ddf6e"
  },
  {
   "metadata": {},
   "cell_type": "code",
   "outputs": [],
   "execution_count": null,
   "source": "",
   "id": "b9f4cb94631a7257"
  }
 ],
 "metadata": {
  "kernelspec": {
   "display_name": "Python 3",
   "language": "python",
   "name": "python3"
  },
  "language_info": {
   "codemirror_mode": {
    "name": "ipython",
    "version": 2
   },
   "file_extension": ".py",
   "mimetype": "text/x-python",
   "name": "python",
   "nbconvert_exporter": "python",
   "pygments_lexer": "ipython2",
   "version": "2.7.6"
  }
 },
 "nbformat": 4,
 "nbformat_minor": 5
}
